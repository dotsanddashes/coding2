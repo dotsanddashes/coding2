{
 "cells": [
  {
   "cell_type": "code",
   "execution_count": 6,
   "metadata": {},
   "outputs": [],
   "source": [
    "import networkx as nx\n",
    "import re\n",
    "import gensim\n",
    "import logging\n",
    "import pandas as pd\n",
    "import urllib.request\n",
    "from gensim.models import word2vec"
   ]
  },
  {
   "cell_type": "code",
   "execution_count": 7,
   "metadata": {},
   "outputs": [
    {
     "ename": "NameError",
     "evalue": "name 'smart' is not defined",
     "output_type": "error",
     "traceback": [
      "\u001b[1;31m---------------------------------------------------------------------------\u001b[0m",
      "\u001b[1;31mNameError\u001b[0m                                 Traceback (most recent call last)",
      "\u001b[1;32m<ipython-input-7-9f2c4a9d883c>\u001b[0m in \u001b[0;36m<module>\u001b[1;34m()\u001b[0m\n\u001b[1;32m----> 1\u001b[1;33m \u001b[0mm\u001b[0m \u001b[1;33m=\u001b[0m \u001b[0msmart\u001b[0m\u001b[1;33m.\u001b[0m\u001b[0mopen\u001b[0m\u001b[1;33m(\u001b[0m\u001b[1;34m'ruscorpora_mystem_cbow_300_2_2015.bin.gz'\u001b[0m\u001b[1;33m)\u001b[0m\u001b[1;33m\u001b[0m\u001b[0m\n\u001b[0m\u001b[0;32m      2\u001b[0m \u001b[1;33m\u001b[0m\u001b[0m\n\u001b[0;32m      3\u001b[0m \u001b[1;32mif\u001b[0m \u001b[0mm\u001b[0m\u001b[1;33m.\u001b[0m\u001b[0mendswith\u001b[0m\u001b[1;33m(\u001b[0m\u001b[1;34m'.vec.gz'\u001b[0m\u001b[1;33m)\u001b[0m\u001b[1;33m:\u001b[0m\u001b[1;33m\u001b[0m\u001b[0m\n\u001b[0;32m      4\u001b[0m     \u001b[0mmodel\u001b[0m \u001b[1;33m=\u001b[0m \u001b[0mgensim\u001b[0m\u001b[1;33m.\u001b[0m\u001b[0mmodels\u001b[0m\u001b[1;33m.\u001b[0m\u001b[0mKeyedVectors\u001b[0m\u001b[1;33m.\u001b[0m\u001b[0mload_word2vec_format\u001b[0m\u001b[1;33m(\u001b[0m\u001b[0mm\u001b[0m\u001b[1;33m,\u001b[0m \u001b[0mbinary\u001b[0m\u001b[1;33m=\u001b[0m\u001b[1;32mFalse\u001b[0m\u001b[1;33m)\u001b[0m\u001b[1;33m\u001b[0m\u001b[0m\n\u001b[0;32m      5\u001b[0m \u001b[1;32melif\u001b[0m \u001b[0mm\u001b[0m\u001b[1;33m.\u001b[0m\u001b[0mendswith\u001b[0m\u001b[1;33m(\u001b[0m\u001b[1;34m'.bin.gz'\u001b[0m\u001b[1;33m)\u001b[0m\u001b[1;33m:\u001b[0m\u001b[1;33m\u001b[0m\u001b[0m\n",
      "\u001b[1;31mNameError\u001b[0m: name 'smart' is not defined"
     ]
    }
   ],
   "source": [
    "urllib.request.urlretrieve(\"http://rusvectores.org/static/models/rusvectores2/ruscorpora_mystem_cbow_300_2_2015.bin.gz\", \"ruscorpora_mystem_cbow_300_2_2015.bin.gz\")\n",
    "m = 'ruscorpora_mystem_cbow_300_2_2015.bin.gz'\n",
    "\n",
    "if m.endswith('.vec.gz'):\n",
    "    model = gensim.models.KeyedVectors.load_word2vec_format(m, binary=False)\n",
    "elif m.endswith('.bin.gz'):\n",
    "    model = gensim.models.KeyedVectors.load_word2vec_format(m, binary=True)\n",
    "else:\n",
    "    model = gensim.models.KeyedVectors.load(m)"
   ]
  },
  {
   "cell_type": "code",
   "execution_count": 11,
   "metadata": {},
   "outputs": [
    {
     "name": "stdout",
     "output_type": "stream",
     "text": [
      "вино_S\n"
     ]
    }
   ],
   "source": [
    "word = 'вино_S'\n",
    "if word in model:\n",
    "    print(word)\n",
    "else:\n",
    "    print('not found')"
   ]
  },
  {
   "cell_type": "code",
   "execution_count": 90,
   "metadata": {
    "collapsed": true
   },
   "outputs": [
    {
     "name": "stdout",
     "output_type": "stream",
     "text": [
      "{'водка_S': 0.6472468376159668, 'алкоголь_S': 0.6356332302093506, 'пиво_S': 0.6036792397499084, 'самогон_S': 0.5737318992614746, 'вино_S': 0.5369029641151428, 'самогонка_S': 0.5191596150398254, 'коньяк_S': 0.5159386396408081, 'абсент_S': 0.5072966814041138, 'спирт_S': 0.5066832900047302, 'напиток_S': 0.5041528344154358}\n"
     ]
    }
   ],
   "source": [
    "d1 = {}\n",
    "for i in model.most_similar(positive=[word]):\n",
    "    if (i[1] >= 0.5) and (i[0][-2:] == '_S'):\n",
    "        d1[i[0]] = i[1]\n",
    "print(d1)"
   ]
  },
  {
   "cell_type": "code",
   "execution_count": 91,
   "metadata": {},
   "outputs": [
    {
     "name": "stdout",
     "output_type": "stream",
     "text": [
      "{'водка_S': {'коньяк_S': 0.8468217849731445, 'пиво_S': 0.829713761806488, 'самогон_S': 0.7824377417564392, 'портвейн_S': 0.7768006324768066, 'шампанское_S': 0.7401661276817322, 'чача_S': 0.7299690246582031, 'самогонка_S': 0.7204016447067261, 'лимонад_S': 0.7022958993911743, 'минералка_S': 0.6864304542541504}, 'алкоголь_S': {'спиртное_S': 0.6356331706047058, 'никотин_S': 0.5666631460189819, 'наркотик_S': 0.5567535161972046, 'курение_S': 0.5467016696929932, 'кофеин_S': 0.5025952458381653, 'спирт_S': 0.5022205114364624}, 'пиво_S': {'водка_S': 0.829713761806488, 'коньяк_S': 0.7656537294387817, 'портвейн_S': 0.7458111047744751, 'шампанское_S': 0.7391636371612549, 'лимонад_S': 0.7168172597885132, 'чача_S': 0.7167270183563232, 'самогон_S': 0.7148751616477966, 'кока-кола_S': 0.7138543725013733, 'минералка_S': 0.688491702079773}, 'самогон_S': {'водка_S': 0.7824377417564392, 'самогонка_S': 0.7669643759727478, 'пиво_S': 0.7148751616477966, 'чача_S': 0.6587560176849365, 'портвейн_S': 0.6300961375236511, 'спирт_S': 0.6132867336273193, 'коньяк_S': 0.6060934066772461, 'рябиновка_S': 0.5762109756469727, 'спиртное_S': 0.5737318992614746}, 'вино_S': {'водка_S': 0.8235378265380859, 'шампанское_S': 0.806689977645874, 'коньяк_S': 0.7815892696380615, 'пиво_S': 0.7573920488357544, 'портвейн_S': 0.7439919710159302, 'кагор_S': 0.7190686464309692, 'чача_S': 0.6786086559295654, 'ликер_S': 0.6755776405334473, 'самогон_S': 0.6662267446517944}, 'самогонка_S': {'самогон_S': 0.7669643759727478, 'водка_S': 0.7204016447067261, 'пиво_S': 0.6515315771102905, 'спирт_S': 0.5741227865219116, 'портвейн_S': 0.5738811492919922, 'чача_S': 0.5649738907814026, 'коньяк_S': 0.5585752725601196, 'водяра_S': 0.5332573652267456, 'кагор_S': 0.5302790403366089}, 'коньяк_S': {'водка_S': 0.8468217849731445, 'шампанское_S': 0.7861782908439636, 'портвейн_S': 0.7790107727050781, 'пиво_S': 0.7656537294387817, 'ликер_S': 0.7407578825950623, 'зубровка_S': 0.709628701210022, 'бренди_S': 0.705194890499115, 'чача_S': 0.6876130104064941}, 'абсент_S': {'пиво_S': 0.6144354343414307, 'коньяк_S': 0.6133370399475098, 'водка_S': 0.6033462285995483, 'вермут_S': 0.5866284370422363, 'ликер_S': 0.5674325823783875, 'чача_S': 0.5604037046432495, 'текила_S': 0.5595373511314392, 'портвейн_S': 0.5546743869781494, 'лимонад_S': 0.5486239790916443}, 'спирт_S': {'самогон_S': 0.6132867336273193, 'водка_S': 0.6022554636001587, 'бензин_S': 0.5911107063293457, 'самогонка_S': 0.5741227865219116, 'денатурат_S': 0.565721869468689, 'формалин_S': 0.554547131061554, 'пиво_S': 0.5530312657356262, 'уксус_S': 0.536501407623291, 'ректификат_S': 0.5360584855079651}, 'напиток_S': {'коктейль_S': 0.5427242517471313, 'самогон_S': 0.5277901887893677, 'водка_S': 0.5159085988998413, 'пиво_S': 0.5155208110809326, 'спиртное_S': 0.5041528344154358}}\n"
     ]
    }
   ],
   "source": [
    "d2 = {}\n",
    "for key in list(d1.keys()):\n",
    "    d2[key] = {}\n",
    "    for i in model.most_similar(positive=[key]):\n",
    "        if (i[1] >= 0.5) and (i[0][-2:] == '_S') and (i[0][:-2] != 'вино'):\n",
    "            d2[key][i[0]] = i[1]\n",
    "\n",
    "print(d2)"
   ]
  },
  {
   "cell_type": "code",
   "execution_count": 104,
   "metadata": {},
   "outputs": [
    {
     "name": "stdout",
     "output_type": "stream",
     "text": [
      "['вино_S', 'водка_S', 'алкоголь_S', 'пиво_S', 'самогон_S', 'самогонка_S', 'коньяк_S', 'абсент_S', 'спирт_S', 'напиток_S', 'портвейн_S', 'шампанское_S', 'чача_S', 'лимонад_S', 'минералка_S', 'спиртное_S', 'никотин_S', 'наркотик_S', 'курение_S', 'кофеин_S', 'кока-кола_S', 'рябиновка_S', 'кагор_S', 'ликер_S', 'водяра_S', 'зубровка_S', 'бренди_S', 'вермут_S', 'текила_S', 'бензин_S', 'денатурат_S', 'формалин_S', 'уксус_S', 'ректификат_S', 'коктейль_S']\n"
     ]
    }
   ],
   "source": [
    "G = nx.Graph()\n",
    "G.add_node('вино_S')\n",
    "for key in d1.keys():\n",
    "    G.add_node(key, label = key[:-2])\n",
    "for key in d2.keys():\n",
    "    for word in d2[key].keys():\n",
    "        for node in list(G.nodes()):\n",
    "            if word != node:\n",
    "                G.add_node(word, label = word[:-2])\n",
    "print(G.nodes())"
   ]
  },
  {
   "cell_type": "code",
   "execution_count": 105,
   "metadata": {},
   "outputs": [
    {
     "name": "stdout",
     "output_type": "stream",
     "text": [
      "[('вино_S', 'водка_S'), ('вино_S', 'алкоголь_S'), ('вино_S', 'пиво_S'), ('вино_S', 'самогон_S'), ('вино_S', 'вино_S'), ('вино_S', 'самогонка_S'), ('вино_S', 'коньяк_S'), ('вино_S', 'абсент_S'), ('вино_S', 'спирт_S'), ('вино_S', 'напиток_S'), ('вино_S', 'шампанское_S'), ('вино_S', 'портвейн_S'), ('вино_S', 'кагор_S'), ('вино_S', 'чача_S'), ('вино_S', 'ликер_S'), ('водка_S', 'коньяк_S'), ('водка_S', 'пиво_S'), ('водка_S', 'самогон_S'), ('водка_S', 'портвейн_S'), ('водка_S', 'шампанское_S'), ('водка_S', 'чача_S'), ('водка_S', 'самогонка_S'), ('водка_S', 'лимонад_S'), ('водка_S', 'минералка_S'), ('водка_S', 'абсент_S'), ('водка_S', 'спирт_S'), ('водка_S', 'напиток_S'), ('алкоголь_S', 'спиртное_S'), ('алкоголь_S', 'никотин_S'), ('алкоголь_S', 'наркотик_S'), ('алкоголь_S', 'курение_S'), ('алкоголь_S', 'кофеин_S'), ('алкоголь_S', 'спирт_S'), ('пиво_S', 'коньяк_S'), ('пиво_S', 'портвейн_S'), ('пиво_S', 'шампанское_S'), ('пиво_S', 'лимонад_S'), ('пиво_S', 'чача_S'), ('пиво_S', 'самогон_S'), ('пиво_S', 'кока-кола_S'), ('пиво_S', 'минералка_S'), ('пиво_S', 'самогонка_S'), ('пиво_S', 'абсент_S'), ('пиво_S', 'спирт_S'), ('пиво_S', 'напиток_S'), ('самогон_S', 'самогонка_S'), ('самогон_S', 'чача_S'), ('самогон_S', 'портвейн_S'), ('самогон_S', 'спирт_S'), ('самогон_S', 'коньяк_S'), ('самогон_S', 'рябиновка_S'), ('самогон_S', 'спиртное_S'), ('самогон_S', 'напиток_S'), ('самогонка_S', 'спирт_S'), ('самогонка_S', 'портвейн_S'), ('самогонка_S', 'чача_S'), ('самогонка_S', 'коньяк_S'), ('самогонка_S', 'водяра_S'), ('самогонка_S', 'кагор_S'), ('коньяк_S', 'шампанское_S'), ('коньяк_S', 'портвейн_S'), ('коньяк_S', 'ликер_S'), ('коньяк_S', 'зубровка_S'), ('коньяк_S', 'бренди_S'), ('коньяк_S', 'чача_S'), ('коньяк_S', 'абсент_S'), ('абсент_S', 'вермут_S'), ('абсент_S', 'ликер_S'), ('абсент_S', 'чача_S'), ('абсент_S', 'текила_S'), ('абсент_S', 'портвейн_S'), ('абсент_S', 'лимонад_S'), ('спирт_S', 'бензин_S'), ('спирт_S', 'денатурат_S'), ('спирт_S', 'формалин_S'), ('спирт_S', 'уксус_S'), ('спирт_S', 'ректификат_S'), ('напиток_S', 'коктейль_S'), ('напиток_S', 'спиртное_S')]\n"
     ]
    }
   ],
   "source": [
    "for key, value in d1.items():\n",
    "    G.add_edge('вино_S', key, weight = value)\n",
    "for word in d2.keys():\n",
    "    for key, value in d2[word].items():\n",
    "        for edge in list(G.edges()):\n",
    "            if (key, word) != edge:\n",
    "                G.add_edge(word, key, weight = value)\n",
    "\n",
    "print(G.edges())"
   ]
  },
  {
   "cell_type": "code",
   "execution_count": 131,
   "metadata": {},
   "outputs": [
    {
     "data": {
      "text/plain": [
       "['абсент_S',\n",
       " 'алкоголь_S',\n",
       " 'бензин_S',\n",
       " 'бренди_S',\n",
       " 'вермут_S',\n",
       " 'вино_S',\n",
       " 'водка_S',\n",
       " 'водяра_S',\n",
       " 'денатурат_S',\n",
       " 'зубровка_S',\n",
       " 'кагор_S',\n",
       " 'кока-кола_S',\n",
       " 'коктейль_S',\n",
       " 'коньяк_S',\n",
       " 'кофеин_S',\n",
       " 'курение_S',\n",
       " 'ликер_S',\n",
       " 'лимонад_S',\n",
       " 'минералка_S',\n",
       " 'напиток_S',\n",
       " 'наркотик_S',\n",
       " 'никотин_S',\n",
       " 'пиво_S',\n",
       " 'портвейн_S',\n",
       " 'ректификат_S',\n",
       " 'рябиновка_S',\n",
       " 'самогон_S',\n",
       " 'самогонка_S',\n",
       " 'спирт_S',\n",
       " 'спиртное_S',\n",
       " 'текила_S',\n",
       " 'уксус_S',\n",
       " 'формалин_S',\n",
       " 'чача_S',\n",
       " 'шампанское_S']"
      ]
     },
     "execution_count": 131,
     "metadata": {},
     "output_type": "execute_result"
    }
   ],
   "source": [
    "print(nx.degree_centrality(G))\n",
    "print(nx.eigenvector_centrality(G))\n",
    "print(nx.closeness_centrality(G))\n",
    "print(nx.betweenness_centrality(G))"
   ]
  },
  {
   "cell_type": "code",
   "execution_count": 107,
   "metadata": {},
   "outputs": [
    {
     "name": "stdout",
     "output_type": "stream",
     "text": [
      "2\n",
      "4\n",
      "-0.201321939402237\n",
      "0.13277310924369748\n",
      "0.31741908884766035\n",
      "0.463768115942029\n"
     ]
    }
   ],
   "source": [
    "#Радиус графа\n",
    "print(nx.radius(G))\n",
    "\n",
    "#Диаметр графа\n",
    "print(nx.diameter(G))\n",
    "\n",
    "#Коэффициент ассортативности\n",
    "print(nx.degree_pearson_correlation_coefficient(G))\n",
    "\n",
    "#Плотность графа\n",
    "print(nx.density(G))\n",
    "\n",
    "#Коэффициент кластеризации\n",
    "print(nx.average_clustering(G))\n",
    "print(nx.transitivity(G))"
   ]
  },
  {
   "cell_type": "code",
   "execution_count": 112,
   "metadata": {},
   "outputs": [
    {
     "data": {
      "text/plain": [
       "[['абсент_S',\n",
       "  'бренди_S',\n",
       "  'вермут_S',\n",
       "  'вино_S',\n",
       "  'водка_S',\n",
       "  'водяра_S',\n",
       "  'зубровка_S',\n",
       "  'кагор_S',\n",
       "  'кока-кола_S',\n",
       "  'коктейль_S',\n",
       "  'коньяк_S',\n",
       "  'ликер_S',\n",
       "  'лимонад_S',\n",
       "  'минералка_S',\n",
       "  'напиток_S',\n",
       "  'пиво_S',\n",
       "  'портвейн_S',\n",
       "  'рябиновка_S',\n",
       "  'самогон_S',\n",
       "  'самогонка_S',\n",
       "  'спиртное_S',\n",
       "  'текила_S',\n",
       "  'чача_S',\n",
       "  'шампанское_S'],\n",
       " ['алкоголь_S', 'кофеин_S', 'курение_S', 'наркотик_S', 'никотин_S'],\n",
       " ['бензин_S',\n",
       "  'денатурат_S',\n",
       "  'ректификат_S',\n",
       "  'спирт_S',\n",
       "  'уксус_S',\n",
       "  'формалин_S']]"
      ]
     },
     "execution_count": 112,
     "metadata": {},
     "output_type": "execute_result"
    }
   ],
   "source": [
    "communities_generator = community.girvan_newman(G)\n",
    "top_level_communities = next(communities_generator)\n",
    "next_level_communities = next(communities_generator)\n",
    "sorted(map(sorted, next_level_communities))\n",
    "#получилось три сообщества:\n",
    "#виды алкольных напитков;\n",
    "#вещества, вызывающие привыкание;\n",
    "#технические и химические жидкости"
   ]
  },
  {
   "cell_type": "code",
   "execution_count": 119,
   "metadata": {},
   "outputs": [
    {
     "data": {
      "text/plain": [
       "[['абсент_S',\n",
       "  'бренди_S',\n",
       "  'вермут_S',\n",
       "  'вино_S',\n",
       "  'водка_S',\n",
       "  'водяра_S',\n",
       "  'зубровка_S',\n",
       "  'кагор_S',\n",
       "  'кока-кола_S',\n",
       "  'коктейль_S',\n",
       "  'коньяк_S',\n",
       "  'ликер_S',\n",
       "  'лимонад_S',\n",
       "  'минералка_S',\n",
       "  'напиток_S',\n",
       "  'пиво_S',\n",
       "  'портвейн_S',\n",
       "  'рябиновка_S',\n",
       "  'самогон_S',\n",
       "  'самогонка_S',\n",
       "  'спиртное_S',\n",
       "  'текила_S',\n",
       "  'чача_S',\n",
       "  'шампанское_S'],\n",
       " ['алкоголь_S', 'кофеин_S', 'курение_S', 'наркотик_S', 'никотин_S'],\n",
       " ['бензин_S',\n",
       "  'денатурат_S',\n",
       "  'ректификат_S',\n",
       "  'спирт_S',\n",
       "  'уксус_S',\n",
       "  'формалин_S']]"
      ]
     },
     "execution_count": 119,
     "metadata": {},
     "output_type": "execute_result"
    }
   ],
   "source": [
    "communities_generator = community.girvan_newman(G)\n",
    "top_level_communities = next(communities_generator)\n",
    "next_level_communities = next(communities_generator)\n",
    "sorted(map(sorted, next_level_communities))\n",
    "#получилось три сообщества:\n",
    "#виды алкольных напитков;\n",
    "#вещества, вызывающие привыкание;\n",
    "#технические и химические жидкости"
   ]
  },
  {
   "cell_type": "code",
   "execution_count": 138,
   "metadata": {},
   "outputs": [
    {
     "data": {
      "image/png": "[encoded data removed]",
      "text/plain": [
       "<Figure size 432x288 with 1 Axes>"
      ]
     },
     "metadata": {},
     "output_type": "display_data"
    }
   ],
   "source": [
    "import matplotlib.pyplot as plt\n",
    "from matplotlib import style\n",
    "style.use('ggplot') \n",
    "\n",
    "pos=nx.spring_layout(G)\n",
    "\n",
    "g1 = list(next_level_communities[0])\n",
    "g2 = list(next_level_communities[1])\n",
    "\n",
    "nx.draw_networkx_nodes(G, pos, node_color='green', node_size=30)\n",
    "nx.draw_networkx_edges(G, pos, edge_color='black')\n",
    "nx.draw_networkx_labels(G, pos, font_size=14, font_family='Arial')\n",
    "plt.axis('off')\n",
    "plt.show()"
   ]
  },
  {
   "cell_type": "code",
   "execution_count": null,
   "metadata": {},
   "outputs": [],
   "source": []
  },
  {
   "cell_type": "code",
   "execution_count": 5,
   "metadata": {
    "scrolled": false
   },
   "outputs": [
    {
     "name": "stdout",
     "output_type": "stream",
     "text": [
      "Requirement already satisfied: smart_open in c:\\users\\user\\anaconda3\\lib\\site-packages (1.8.4)\n",
      "Requirement already satisfied: boto>=2.32 in c:\\users\\user\\anaconda3\\lib\\site-packages (from smart_open) (2.48.0)\n",
      "Requirement already satisfied: boto3 in c:\\users\\user\\anaconda3\\lib\\site-packages (from smart_open) (1.9.162)\n",
      "Requirement already satisfied: requests in c:\\users\\user\\anaconda3\\lib\\site-packages (from smart_open) (2.18.4)\n",
      "Requirement already satisfied: botocore<1.13.0,>=1.12.162 in c:\\users\\user\\anaconda3\\lib\\site-packages (from boto3->smart_open) (1.12.162)\n",
      "Requirement already satisfied: s3transfer<0.3.0,>=0.2.0 in c:\\users\\user\\anaconda3\\lib\\site-packages (from boto3->smart_open) (0.2.1)\n",
      "Requirement already satisfied: jmespath<1.0.0,>=0.7.1 in c:\\users\\user\\anaconda3\\lib\\site-packages (from boto3->smart_open) (0.9.4)\n",
      "Requirement already satisfied: chardet<3.1.0,>=3.0.2 in c:\\users\\user\\anaconda3\\lib\\site-packages (from requests->smart_open) (3.0.4)\n",
      "Requirement already satisfied: idna<2.7,>=2.5 in c:\\users\\user\\anaconda3\\lib\\site-packages (from requests->smart_open) (2.6)\n",
      "Requirement already satisfied: urllib3<1.23,>=1.21.1 in c:\\users\\user\\anaconda3\\lib\\site-packages (from requests->smart_open) (1.22)\n",
      "Requirement already satisfied: certifi>=2017.4.17 in c:\\users\\user\\anaconda3\\lib\\site-packages (from requests->smart_open) (2018.4.16)\n",
      "Requirement already satisfied: docutils>=0.10 in c:\\users\\user\\anaconda3\\lib\\site-packages (from botocore<1.13.0,>=1.12.162->boto3->smart_open) (0.14)\n",
      "Requirement already satisfied: python-dateutil<3.0.0,>=2.1; python_version >= \"2.7\" in c:\\users\\user\\anaconda3\\lib\\site-packages (from botocore<1.13.0,>=1.12.162->boto3->smart_open) (2.7.3)\n",
      "Requirement already satisfied: six>=1.5 in c:\\users\\user\\anaconda3\\lib\\site-packages (from python-dateutil<3.0.0,>=2.1; python_version >= \"2.7\"->botocore<1.13.0,>=1.12.162->boto3->smart_open) (1.11.0)\n"
     ]
    },
    {
     "name": "stderr",
     "output_type": "stream",
     "text": [
      "distributed 1.21.8 requires msgpack, which is not installed.\n",
      "You are using pip version 10.0.1, however version 19.1.1 is available.\n",
      "You should consider upgrading via the 'python -m pip install --upgrade pip' command.\n"
     ]
    }
   ],
   "source": []
  }
 ],
 "metadata": {
  "kernelspec": {
   "display_name": "Python 3",
   "language": "python",
   "name": "python3"
  },
  "language_info": {
   "codemirror_mode": {
    "name": "ipython",
    "version": 3
   },
   "file_extension": ".py",
   "mimetype": "text/x-python",
   "name": "python",
   "nbconvert_exporter": "python",
   "pygments_lexer": "ipython3",
   "version": "3.6.5"
  }
 },
 "nbformat": 4,
 "nbformat_minor": 2
}
