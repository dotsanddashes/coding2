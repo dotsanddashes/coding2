{
 "cells": [
  {
   "cell_type": "code",
   "execution_count": null,
   "metadata": {},
   "outputs": [],
   "source": [
    "import random\n",
    "\n",
    "def open_file(fname): #open file\n",
    "    with open(fname, encoding = 'utf-8') as f:\n",
    "        words = f.read()\n",
    "    return words\n",
    "\n",
    "def choose_topic(): #ask user to choose one of three topics\n",
    "    topicname = input('Выберите одну из трех тем (птицы, животные, специи): ')\n",
    "    if topicname == 'птицы':\n",
    "        topicname = '1.txt'\n",
    "    elif topicname == 'животные':\n",
    "        topicname = '2.txt'\n",
    "    else:\n",
    "        topicname = '3.txt'\n",
    "    return topicname\n",
    "\n",
    "def getrandword(words): #get random word for game\n",
    "    words = words.split('\\n')\n",
    "    randword = random.choice(words)\n",
    "    return randword\n",
    "\n",
    "def guess_letter(randword):\n",
    "    i = len(randword)\n",
    "    guessword = ('_' * i)\n",
    "    return guessword\n",
    "\n",
    "\n",
    "def main():\n",
    "    topicname = choose_topic()\n",
    "    words = open_file(topicname)\n",
    "    randword = getrandword(words)\n",
    "    guessword = guess_letter(randword)\n",
    "    try_counter = 5\n",
    "    print('У вас есть 5 попыток, чтобы отгадать слово.')\n",
    "    print(guessword)\n",
    "    while (try_counter >= 1) and (guessword != randword):\n",
    "        guesslet = input('Введите букву: ')\n",
    "        if guesslet in randword:\n",
    "            for i in range(len(randword)):\n",
    "                if guesslet == randword[i]:\n",
    "                    guessword = guessword[:i] + guesslet + guessword[i + 1:]\n",
    "            print(guessword)\n",
    "        else:\n",
    "            try_counter -= 1\n",
    "            print('Такой буквы нет. Осталось попыток: ', try_counter)\n",
    "    if guessword != randword:\n",
    "        print('Не удалось угадать слово :(')\n",
    "    else:\n",
    "        print('Ура! Слово угадано!')\n",
    "\n",
    "if __name__ == '__main__':\n",
    "    main()\n"
   ]
  }
 ],
 "metadata": {
  "kernelspec": {
   "display_name": "Python 3",
   "language": "python",
   "name": "python3"
  },
  "language_info": {
   "codemirror_mode": {
    "name": "ipython",
    "version": 3
   },
   "file_extension": ".py",
   "mimetype": "text/x-python",
   "name": "python",
   "nbconvert_exporter": "python",
   "pygments_lexer": "ipython3",
   "version": "3.6.5"
  }
 },
 "nbformat": 4,
 "nbformat_minor": 2
}
