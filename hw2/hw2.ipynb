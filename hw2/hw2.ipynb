{
 "cells": [
  {
   "cell_type": "code",
   "execution_count": null,
   "metadata": {},
   "outputs": [],
   "source": [
    "import json\n",
    "import urllib.request\n",
    "\n",
    "def open_file(fname):\n",
    "    with open(fname, encoding = 'utf-8') as f:\n",
    "        users_list = f.read()\n",
    "    return users_list\n",
    "\n",
    "def chose_user(users_list):\n",
    "    user = input('Введите имя пользователя: ')\n",
    "    while user not in users_list:\n",
    "        print('Вы ввели неверное имя пользователя.')\n",
    "        user = input('Попробуйте еще раз: ')\n",
    "    print ('Вы выбрали пользователя ', user + '.')\n",
    "    return user"
   ]
  },
  {
   "cell_type": "code",
   "execution_count": null,
   "metadata": {},
   "outputs": [],
   "source": [
    "def get_info(user):\n",
    "    url = 'https://api.github.com/users/%s/repos?per_page=100' % (user) #у меня не получилось до конца разобраться с тем, как устроена выдача и переход по страницам, так что максимальное количество репозиториев, как и фолловеров, которое умеет считать програма - 100\n",
    "    response = urllib.request.urlopen(url)\n",
    "    text = response.read().decode('utf-8')\n",
    "    data = json.loads(text)\n",
    "    return data\n",
    "\n",
    "def repo_info(data):\n",
    "    print('Список репозиториев пользователя и их описание:' + '\\n')\n",
    "    for i in data:\n",
    "        print(i['name'] + ':', i['description'])\n",
    "    return print('\\n')"
   ]
  },
  {
   "cell_type": "code",
   "execution_count": null,
   "metadata": {},
   "outputs": [],
   "source": [
    "def languages(data):\n",
    "    language_list = []\n",
    "    for i in data:\n",
    "        if i['language'] not in language_list:\n",
    "            language_list.append(i['language'])\n",
    "    d = {}.fromkeys(language_list)\n",
    "    for language in language_list:\n",
    "        lang_repos = []\n",
    "        for i in data:\n",
    "            if language == i['language']:\n",
    "                lang_repos.append(i['name'])\n",
    "        lang_repos_str = ', '.join(lang_repos)\n",
    "        d[language] = lang_repos_str\n",
    "    for key, value in d.items():\n",
    "        if key != None:\n",
    "            if len(value.split(',')) > 1:\n",
    "                print('Пользователь использует язык', key, ' в репозиториях:', value + '.')\n",
    "            else:\n",
    "                print('Пользователь использует язык', key, ' в репозитории:', value + '.')\n",
    "        else:\n",
    "            print('Здесь никакой язык не используется:', value + '.')\n",
    "    return print('\\n')"
   ]
  },
  {
   "cell_type": "code",
   "execution_count": null,
   "metadata": {},
   "outputs": [],
   "source": [
    "def followers(user):\n",
    "    url = 'https://api.github.com/users/%s/followers?per_page=100' % (user) \n",
    "    response = urllib.request.urlopen(url)\n",
    "    text = response.read().decode('utf-8')\n",
    "    followers_number = json.loads(text)\n",
    "    return followers_number\n",
    "\n",
    "def all_users_info(users_list):\n",
    "    users_list = users_list.split('\\n')\n",
    "    dict_users = {}.fromkeys(users_list)\n",
    "    for user in users_list:\n",
    "        data = get_info(user)\n",
    "        dict_users[user] = len(data)\n",
    "    repo_number = 0\n",
    "    user_repo  = ()\n",
    "    for key, value in dict_users.items():\n",
    "        if value > repo_number:\n",
    "            repo_number = value\n",
    "            user_repo = key\n",
    "        elif value == repo_number:\n",
    "            user_repo = user_repo + ', ' + key\n",
    "    if len(user_repo.split(',')) > 1:\n",
    "        print('Больше всего репозиториев у пользователей', user_repo + '.')\n",
    "    else:\n",
    "        print('Больше всего репозиториев у пользователя', user_repo + '.')\n",
    "    \n",
    "    for user in users_list:\n",
    "        followers_number = followers(user)\n",
    "        dict_users[user] = len(followers_number)\n",
    "    follow_number = 0\n",
    "    user_follow  = ()\n",
    "    for key, value in dict_users.items():\n",
    "        if value > follow_number:\n",
    "            follow_number = value\n",
    "            user_follow = key\n",
    "        elif value == follow_number:\n",
    "            user_follow = user_follow + ', ' + key\n",
    "    if len(user_follow.split(',')) > 1:\n",
    "        print('Больше всего фолловеров у пользователей', user_repo + '.')\n",
    "    else:\n",
    "        print('Больше всего фолловеров у пользователя', user_repo + '.')"
   ]
  },
  {
   "cell_type": "code",
   "execution_count": null,
   "metadata": {},
   "outputs": [],
   "source": [
    "def main():\n",
    "    users_list = open_file('users_list.txt')\n",
    "    user = chose_user(users_list)\n",
    "    data = get_info(user)\n",
    "    repo_info(data)\n",
    "    languages(data)\n",
    "    all_users_info(users_list)"
   ]
  },
  {
   "cell_type": "code",
   "execution_count": null,
   "metadata": {},
   "outputs": [],
   "source": [
    "if __name__ == \"__main__\":\n",
    "    main()"
   ]
  },
  {
   "cell_type": "code",
   "execution_count": null,
   "metadata": {},
   "outputs": [],
   "source": []
  }
 ],
 "metadata": {
  "kernelspec": {
   "display_name": "Python 3",
   "language": "python",
   "name": "python3"
  },
  "language_info": {
   "codemirror_mode": {
    "name": "ipython",
    "version": 3
   },
   "file_extension": ".py",
   "mimetype": "text/x-python",
   "name": "python",
   "nbconvert_exporter": "python",
   "pygments_lexer": "ipython3",
   "version": "3.6.5"
  }
 },
 "nbformat": 4,
 "nbformat_minor": 2
}
